{
 "cells": [
  {
   "cell_type": "code",
   "execution_count": 1,
   "metadata": {},
   "outputs": [
    {
     "name": "stdout",
     "output_type": "stream",
     "text": [
      "A+B= [[ 3  1]\n",
      " [-3  7]]\n",
      "2A= [[ 4 -2]\n",
      " [ 0  6]]\n",
      "3A-2B= [[ 4 -7]\n",
      " [ 6  1]]\n"
     ]
    }
   ],
   "source": [
    "import numpy as np\n",
    "\n",
    "# Define two matrices\n",
    "A = np.array([[2, -1], [0, 3]])\n",
    "B = np.array([[1, 2], [-3, 4]])\n",
    "\n",
    "# Matrix addition\n",
    "C = A + B\n",
    "D= 2*A\n",
    "E=3*A-2*B\n",
    "\n",
    "# Print the result\n",
    "print(\"A+B=\",C)\n",
    "print(\"2A=\",D)\n",
    "print(\"3A-2B=\",E)"
   ]
  },
  {
   "cell_type": "code",
   "execution_count": 2,
   "metadata": {},
   "outputs": [
    {
     "name": "stdout",
     "output_type": "stream",
     "text": [
      "Determinant of A: 6.0\n",
      "the matrix is invertible\n",
      "Its inverse is:\n",
      "[[0.5        0.16666667]\n",
      " [0.         0.33333333]]\n"
     ]
    }
   ],
   "source": [
    "import numpy as np\n",
    "import numpy.linalg as LA\n",
    "# Define the matrix\n",
    "A = np.array([[2, -1],[0, 3]])\n",
    "# Compute the determinant\n",
    "determinant = LA.det(A)\n",
    "# Print the result\n",
    "print(\"Determinant of A:\", determinant)\n",
    "if determinant!=0:\n",
    "    print(\"the matrix is invertible\")\n",
    "else: \n",
    "    print(\"the matrix is non-invertible\")\n",
    "print(\"Its inverse is:\")\n",
    "inverse = LA.inv(A)\n",
    "print(inverse)"
   ]
  },
  {
   "cell_type": "code",
   "execution_count": 3,
   "metadata": {},
   "outputs": [
    {
     "name": "stdout",
     "output_type": "stream",
     "text": [
      "Matrix A:\n",
      "[[ 4  1]\n",
      " [-2  1]]\n",
      "\n",
      "Eigenvalue (first):\n",
      "3.0\n",
      "\n",
      "Corresponding Eigenvector:\n",
      "[ 0.70710678 -0.70710678]\n"
     ]
    }
   ],
   "source": [
    "import numpy as np\n",
    "\n",
    "# Define the matrix\n",
    "A = np.array([[4, 1], [-2, 1]])\n",
    "\n",
    "# Compute eigenvalues and eigenvectors\n",
    "eigenvalues, eigenvectors = np.linalg.eig(A)\n",
    "\n",
    "# Print the results\n",
    "print(\"Matrix A:\")\n",
    "print(A)\n",
    "print(\"\\nEigenvalue (first):\")\n",
    "print(eigenvalues[0])\n",
    "print(\"\\nCorresponding Eigenvector:\")\n",
    "print(eigenvectors[:, 0])"
   ]
  },
  {
   "cell_type": "code",
   "execution_count": 4,
   "metadata": {},
   "outputs": [
    {
     "name": "stdout",
     "output_type": "stream",
     "text": [
      "Predicted price of car 3: $40.00\n"
     ]
    }
   ],
   "source": [
    "import numpy as np\n",
    "\n",
    "# Define the feature matrix X (including the bias term)\n",
    "X = np.array([[1, 4, 1.5, 100],   \n",
    "              [1, 6, 2.0, 150]])  \n",
    "\n",
    "# Define the target price vector y\n",
    "y = np.array([20, 30])  \n",
    "\n",
    "# Compute β using the pseudoinverse (fixing singular matrix issue)\n",
    "beta = np.linalg.pinv(X) @ y  \n",
    "\n",
    "# Define the new car's features\n",
    "car_3_features = np.array([1, 8, 3.0, 200])  \n",
    "\n",
    "# Predict the price\n",
    "predicted_price = car_3_features @ beta  \n",
    "\n",
    "# Print the result\n",
    "print(f\"Predicted price of car 3: ${predicted_price:.2f}\")\n"
   ]
  }
 ],
 "metadata": {
  "kernelspec": {
   "display_name": "Python 3",
   "language": "python",
   "name": "python3"
  },
  "language_info": {
   "codemirror_mode": {
    "name": "ipython",
    "version": 3
   },
   "file_extension": ".py",
   "mimetype": "text/x-python",
   "name": "python",
   "nbconvert_exporter": "python",
   "pygments_lexer": "ipython3",
   "version": "3.11.9"
  }
 },
 "nbformat": 4,
 "nbformat_minor": 2
}
